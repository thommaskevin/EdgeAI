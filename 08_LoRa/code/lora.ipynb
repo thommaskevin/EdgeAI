{
 "cells": [
  {
   "cell_type": "markdown",
   "id": "b835187c",
   "metadata": {},
   "source": [
    "# 🧪 Fine-Tuning a Small Language Model Using LoRA\n",
    "\n",
    "This tutorial walks you through the process of fine-tuning a causal language model (e.g., distilgpt2) using the LoRA (Low-Rank Adaptation) method with Hugging Face Transformers and PEFT."
   ]
  },
  {
   "cell_type": "markdown",
   "id": "1207f45f",
   "metadata": {},
   "source": [
    "## 📦 Requirements\n",
    "\n",
    "Make sure you have the following Python libraries installed:"
   ]
  },
  {
   "cell_type": "code",
   "execution_count": 1,
   "id": "2b01ac27",
   "metadata": {},
   "outputs": [],
   "source": [
    "#!pip install transformers datasets peft accelerate torch"
   ]
  },
  {
   "cell_type": "markdown",
   "id": "1164c54d",
   "metadata": {},
   "source": [
    "## 🔢 Step 1: Load and Prepare Your Dataset\n",
    "\n",
    "First, we load the dataset from a .jsonl file and convert each entry into a single string with both instruction and output."
   ]
  },
  {
   "cell_type": "code",
   "execution_count": 2,
   "id": "1672f2c3",
   "metadata": {},
   "outputs": [
    {
     "name": "stderr",
     "output_type": "stream",
     "text": [
      "c:\\Users\\thomm\\OneDrive\\Desktop\\Repositorios\\EdgeAI\\.venv\\lib\\site-packages\\tqdm\\auto.py:21: TqdmWarning: IProgress not found. Please update jupyter and ipywidgets. See https://ipywidgets.readthedocs.io/en/stable/user_install.html\n",
      "  from .autonotebook import tqdm as notebook_tqdm\n"
     ]
    }
   ],
   "source": [
    "from datasets import load_dataset\n",
    "\n",
    "def convert_to_hf_format(example):\n",
    "    return {\n",
    "        \"text\": f\"Instruction: {example['instruction']}\\nOutput: {example['output']}\"\n",
    "    }\n",
    "\n",
    "dataset = load_dataset('json', data_files='dataset.jsonl')\n",
    "dataset = dataset.map(convert_to_hf_format)\n",
    "dataset = dataset[\"train\"].train_test_split(test_size=0.2)"
   ]
  },
  {
   "cell_type": "markdown",
   "id": "2a839eea",
   "metadata": {},
   "source": [
    "## 🤖 Step 2: Load the Pretrained Model and Tokenizer\n",
    "\n",
    "Use Hugging Face to load the model and tokenizer. If the tokenizer lacks a pad_token, we use the eos_token."
   ]
  },
  {
   "cell_type": "code",
   "execution_count": 3,
   "id": "90cd915d",
   "metadata": {},
   "outputs": [],
   "source": [
    "from transformers import AutoModelForCausalLM, AutoTokenizer\n",
    "\n",
    "model_name = \"distilgpt2\"\n",
    "tokenizer = AutoTokenizer.from_pretrained(model_name)\n",
    "model = AutoModelForCausalLM.from_pretrained(model_name)\n",
    "\n",
    "if tokenizer.pad_token is None:\n",
    "    tokenizer.pad_token = tokenizer.eos_token"
   ]
  },
  {
   "cell_type": "markdown",
   "id": "3e223215",
   "metadata": {},
   "source": [
    "## ✂️ Step 3: Tokenize the Dataset\n",
    "\n",
    "Tokenize the combined \"instruction + output\" text using a fixed max_length."
   ]
  },
  {
   "cell_type": "code",
   "execution_count": 4,
   "id": "091fcc95",
   "metadata": {},
   "outputs": [
    {
     "name": "stderr",
     "output_type": "stream",
     "text": [
      "Map: 100%|██████████| 8/8 [00:00<00:00, 158.65 examples/s]\n",
      "Map: 100%|██████████| 2/2 [00:00<00:00, 59.52 examples/s]\n"
     ]
    }
   ],
   "source": [
    "def tokenize_function(examples):\n",
    "    return tokenizer(examples[\"text\"], padding=\"max_length\", truncation=True, max_length=128)\n",
    "\n",
    "tokenized_datasets = dataset.map(tokenize_function, batched=True)"
   ]
  },
  {
   "cell_type": "markdown",
   "id": "c2116e52",
   "metadata": {},
   "source": [
    "## 🔧 Step 4: Prepare Model for LoRA Training\n",
    "\n",
    "Enable LoRA fine-tuning and quantization-aware training using PEFT:"
   ]
  },
  {
   "cell_type": "code",
   "execution_count": 5,
   "id": "29eae173",
   "metadata": {},
   "outputs": [],
   "source": [
    "from peft import prepare_model_for_kbit_training\n",
    "\n",
    "model = prepare_model_for_kbit_training(model)\n"
   ]
  },
  {
   "cell_type": "markdown",
   "id": "b7ad979a",
   "metadata": {},
   "source": [
    "## 🧩 Step 5: Configure and Inject LoRA\n",
    "\n",
    "Set up LoRA with desired hyperparameters and specify which modules to adapt:"
   ]
  },
  {
   "cell_type": "code",
   "execution_count": 6,
   "id": "fe4ea978",
   "metadata": {},
   "outputs": [
    {
     "name": "stdout",
     "output_type": "stream",
     "text": [
      "trainable params: 811,008 || all params: 82,723,584 || trainable%: 0.9804\n"
     ]
    },
    {
     "name": "stderr",
     "output_type": "stream",
     "text": [
      "c:\\Users\\thomm\\OneDrive\\Desktop\\Repositorios\\EdgeAI\\.venv\\lib\\site-packages\\peft\\tuners\\lora\\layer.py:1768: UserWarning: fan_in_fan_out is set to False but the target module is `Conv1D`. Setting fan_in_fan_out to True.\n",
      "  warnings.warn(\n"
     ]
    }
   ],
   "source": [
    "from peft import LoraConfig, get_peft_model\n",
    "\n",
    "lora_config = LoraConfig(\n",
    "    r=16,\n",
    "    lora_alpha=32,\n",
    "    target_modules=[\"c_attn\", \"c_proj\"],\n",
    "    lora_dropout=0.05,\n",
    "    bias=\"none\",\n",
    "    task_type=\"CAUSAL_LM\",\n",
    "    inference_mode=False\n",
    ")\n",
    "\n",
    "model = get_peft_model(model, lora_config)\n",
    "model.print_trainable_parameters()\n"
   ]
  },
  {
   "cell_type": "markdown",
   "id": "ef4b9195",
   "metadata": {},
   "source": [
    "✅ Only a small subset of parameters will be trained."
   ]
  },
  {
   "cell_type": "markdown",
   "id": "7c488b52",
   "metadata": {},
   "source": [
    "## 🧱 Step 6: Define Data Collator\n",
    "\n",
    "We use a data collator for causal language modeling without masked language modeling (MLM)."
   ]
  },
  {
   "cell_type": "code",
   "execution_count": 7,
   "id": "3b20b4c6",
   "metadata": {},
   "outputs": [],
   "source": [
    "from transformers import DataCollatorForLanguageModeling\n",
    "\n",
    "data_collator = DataCollatorForLanguageModeling(\n",
    "    tokenizer=tokenizer,\n",
    "    mlm=False\n",
    ")\n"
   ]
  },
  {
   "cell_type": "markdown",
   "id": "78a2b29d",
   "metadata": {},
   "source": [
    "## ⚙️ Step 7: Set Training Arguments\n",
    "\n",
    "Configure training parameters like learning rate, batch size, and evaluation strategy."
   ]
  },
  {
   "cell_type": "code",
   "execution_count": 8,
   "id": "2e8487eb",
   "metadata": {},
   "outputs": [],
   "source": [
    "from transformers import TrainingArguments\n",
    "\n",
    "training_args = TrainingArguments(\n",
    "    eval_strategy=\"steps\",\n",
    "    eval_steps=100,\n",
    "    learning_rate=1e-3,\n",
    "    per_device_train_batch_size=4,\n",
    "    per_device_eval_batch_size=4,\n",
    "    num_train_epochs=100,\n",
    "    weight_decay=0.01,\n",
    "    logging_steps=10,\n",
    "    save_strategy=\"steps\",\n",
    "    save_steps=100,\n",
    "    load_best_model_at_end=True,\n",
    "    report_to=\"none\",\n",
    ")\n"
   ]
  },
  {
   "cell_type": "markdown",
   "id": "20c691ae",
   "metadata": {},
   "source": [
    "## 🏋️ Step 8: Initialize Trainer\n",
    "\n",
    "Bring everything together with the Hugging Face Trainer."
   ]
  },
  {
   "cell_type": "code",
   "execution_count": 9,
   "id": "b0a44fc8",
   "metadata": {},
   "outputs": [
    {
     "name": "stderr",
     "output_type": "stream",
     "text": [
      "No label_names provided for model class `PeftModelForCausalLM`. Since `PeftModel` hides base models input arguments, if label_names is not given, label_names can't be set automatically within `Trainer`. Note that empty label_names list will be used instead.\n"
     ]
    }
   ],
   "source": [
    "from transformers import Trainer\n",
    "\n",
    "trainer = Trainer(\n",
    "    model=model,\n",
    "    args=training_args,\n",
    "    train_dataset=tokenized_datasets[\"train\"],\n",
    "    eval_dataset=tokenized_datasets[\"test\"],\n",
    "    data_collator=data_collator,\n",
    ")\n"
   ]
  },
  {
   "cell_type": "markdown",
   "id": "d4cd607a",
   "metadata": {},
   "source": [
    "## 🚀 Step 9: Train the Model\n",
    "\n",
    "Start the training process:"
   ]
  },
  {
   "cell_type": "code",
   "execution_count": 10,
   "id": "7f36d8e9",
   "metadata": {},
   "outputs": [
    {
     "name": "stderr",
     "output_type": "stream",
     "text": [
      "c:\\Users\\thomm\\OneDrive\\Desktop\\Repositorios\\EdgeAI\\.venv\\lib\\site-packages\\torch\\utils\\data\\dataloader.py:665: UserWarning: 'pin_memory' argument is set as true but no accelerator is found, then device pinned memory won't be used.\n",
      "  warnings.warn(warn_msg)\n",
      "`loss_type=None` was set in the config but it is unrecognised.Using the default loss: `ForCausalLMLoss`.\n"
     ]
    },
    {
     "data": {
      "text/html": [
       "\n",
       "    <div>\n",
       "      \n",
       "      <progress value='200' max='200' style='width:300px; height:20px; vertical-align: middle;'></progress>\n",
       "      [200/200 15:02, Epoch 100/100]\n",
       "    </div>\n",
       "    <table border=\"1\" class=\"dataframe\">\n",
       "  <thead>\n",
       " <tr style=\"text-align: left;\">\n",
       "      <th>Step</th>\n",
       "      <th>Training Loss</th>\n",
       "      <th>Validation Loss</th>\n",
       "    </tr>\n",
       "  </thead>\n",
       "  <tbody>\n",
       "    <tr>\n",
       "      <td>100</td>\n",
       "      <td>0.258900</td>\n",
       "      <td>6.514019</td>\n",
       "    </tr>\n",
       "    <tr>\n",
       "      <td>200</td>\n",
       "      <td>0.097400</td>\n",
       "      <td>6.728522</td>\n",
       "    </tr>\n",
       "  </tbody>\n",
       "</table><p>"
      ],
      "text/plain": [
       "<IPython.core.display.HTML object>"
      ]
     },
     "metadata": {},
     "output_type": "display_data"
    },
    {
     "name": "stderr",
     "output_type": "stream",
     "text": [
      "c:\\Users\\thomm\\OneDrive\\Desktop\\Repositorios\\EdgeAI\\.venv\\lib\\site-packages\\torch\\utils\\data\\dataloader.py:665: UserWarning: 'pin_memory' argument is set as true but no accelerator is found, then device pinned memory won't be used.\n",
      "  warnings.warn(warn_msg)\n"
     ]
    },
    {
     "data": {
      "text/plain": [
       "TrainOutput(global_step=200, training_loss=0.6558601385354996, metrics={'train_runtime': 908.8732, 'train_samples_per_second': 0.88, 'train_steps_per_second': 0.22, 'total_flos': 26627958374400.0, 'train_loss': 0.6558601385354996, 'epoch': 100.0})"
      ]
     },
     "execution_count": 10,
     "metadata": {},
     "output_type": "execute_result"
    }
   ],
   "source": [
    "trainer.train()"
   ]
  },
  {
   "cell_type": "markdown",
   "id": "2a737a5a",
   "metadata": {},
   "source": [
    "## 💾 Step 10: Save Your Model and Tokenizer\n",
    "\n",
    "Save the fine-tuned model"
   ]
  },
  {
   "cell_type": "code",
   "execution_count": 11,
   "id": "8a7db364",
   "metadata": {},
   "outputs": [
    {
     "data": {
      "text/plain": [
       "('distilgpt2_tokenizer\\\\tokenizer_config.json',\n",
       " 'distilgpt2_tokenizer\\\\special_tokens_map.json',\n",
       " 'distilgpt2_tokenizer\\\\vocab.json',\n",
       " 'distilgpt2_tokenizer\\\\merges.txt',\n",
       " 'distilgpt2_tokenizer\\\\added_tokens.json',\n",
       " 'distilgpt2_tokenizer\\\\tokenizer.json')"
      ]
     },
     "execution_count": 11,
     "metadata": {},
     "output_type": "execute_result"
    }
   ],
   "source": [
    "model.save_pretrained(\"lora_finetuned_model\")\n",
    "tokenizer.save_pretrained('distilgpt2_tokenizer')"
   ]
  },
  {
   "cell_type": "markdown",
   "id": "a605810e",
   "metadata": {},
   "source": [
    "## 💻 Step 11: Test Your Model and Tokenizer\n",
    "\n",
    "Define a simple generation function to test."
   ]
  },
  {
   "cell_type": "code",
   "execution_count": 12,
   "id": "f6f25adb",
   "metadata": {},
   "outputs": [],
   "source": [
    "from transformers import AutoModelForCausalLM, AutoTokenizer\n",
    "\n",
    "model = AutoModelForCausalLM.from_pretrained(\"lora_finetuned_model\")\n",
    "tokenizer = AutoTokenizer.from_pretrained(\"distilgpt2_tokenizer\")"
   ]
  },
  {
   "cell_type": "code",
   "execution_count": 13,
   "id": "c8bb0ddc",
   "metadata": {},
   "outputs": [],
   "source": [
    "def generate_response(instruction, input_text=\"\"):\n",
    "    prompt = f\"Instruction: {instruction}\\nOutput:\" if not input_text else f\"Instruction: {instruction}\\nInput: {input_text}\\nOutput:\"\n",
    "    inputs = tokenizer(prompt, return_tensors=\"pt\")\n",
    "    outputs = model.generate(\n",
    "        input_ids=inputs[\"input_ids\"],\n",
    "        attention_mask=inputs[\"attention_mask\"],\n",
    "        max_new_tokens=50,\n",
    "        pad_token_id=tokenizer.eos_token_id,\n",
    "        temperature=0.7\n",
    "    )\n",
    "    return tokenizer.decode(outputs[0], skip_special_tokens=True).split(\"Output:\")[-1].strip()"
   ]
  },
  {
   "cell_type": "code",
   "execution_count": 14,
   "id": "3ed44a56",
   "metadata": {},
   "outputs": [
    {
     "name": "stderr",
     "output_type": "stream",
     "text": [
      "c:\\Users\\thomm\\OneDrive\\Desktop\\Repositorios\\EdgeAI\\.venv\\lib\\site-packages\\transformers\\generation\\configuration_utils.py:631: UserWarning: `do_sample` is set to `False`. However, `temperature` is set to `0.7` -- this flag is only used in sample-based generation modes. You should set `do_sample=True` or unset `temperature`.\n",
      "  warnings.warn(\n"
     ]
    },
    {
     "name": "stdout",
     "output_type": "stream",
     "text": [
      "Test response: To use cruise control in a 2023 Subaru Outback:\n",
      "1. Press the 'CRUISE' button on the steering wheel\n",
      "2. Accelerate to desired speed (above 25 mph)\n",
      "3. Press 'SET' to engage\n"
     ]
    }
   ],
   "source": [
    "# Example Test\n",
    "print(\"Test response:\", generate_response(\"How do I activate cruise control?\"))"
   ]
  }
 ],
 "metadata": {
  "kernelspec": {
   "display_name": ".venv",
   "language": "python",
   "name": "python3"
  },
  "language_info": {
   "codemirror_mode": {
    "name": "ipython",
    "version": 3
   },
   "file_extension": ".py",
   "mimetype": "text/x-python",
   "name": "python",
   "nbconvert_exporter": "python",
   "pygments_lexer": "ipython3",
   "version": "3.9.6"
  }
 },
 "nbformat": 4,
 "nbformat_minor": 5
}
